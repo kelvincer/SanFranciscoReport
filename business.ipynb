{
 "cells": [
  {
   "cell_type": "markdown",
   "metadata": {},
   "source": [
    "# Business in San Francisco"
   ]
  },
  {
   "cell_type": "markdown",
   "metadata": {},
   "source": [
    "## 1.A description of the problem and a discussion of the background"
   ]
  },
  {
   "cell_type": "markdown",
   "metadata": {},
   "source": [
    "The problem I'm going to solve is the idea given in the second part, about where locate a business and what type of business. Here we will analyze each group and see what types of businesses are more favorable.One problem you have when making an investment in something that is profitable is have the knowledge of what I am going to invest in and where to invest. Due to this problem we can use data science to answer these questions and have a better result that when we choose it at random.\n",
    "We are going to use the methodology we use in this course to group places and answer these questions. The region of the world that we are going to use to analyze the Possible locations is the city of San Francisco in the United States. I don't live in Francisco but it seems to me an interesting city."
   ]
  },
  {
   "cell_type": "markdown",
   "metadata": {},
   "source": [
    "## 2.A description of the data and how it will be used to solve the problem. "
   ]
  },
  {
   "cell_type": "markdown",
   "metadata": {},
   "source": [
    "The first thing we have to do when working with places is first to see the possible regions of the city where to establish a business. We need the geographical positions of preferred areas like latitude and longitude. Get latitudes and longitudes no\n",
    "it was easy I had to search a lot on the internet and in the course forum; finally what I'm going\n",
    "to use is what I found in the forum because it seemed more favorable.\n",
    "To obtain the latitude and longitude of each postal code, we will use the geocoder library with ArcGIS.\n",
    "After having the positions we follow the methodology applied in this course to group places and see which sites are more favorable for our business. This is the step for cleaning data:\n",
    "\n",
    "1. First we get the Geonames data from this [link](https://www.geonames.org/postal-codes/US/CA/075/san-francisco.html). I only get the postal code because latitude and longitude is repeated for different postal codes. To get the closest latitude and longitude I use geocoder, the method I show below.\n",
    "2. Then I get the data from the table with the help of beautifulsoup. In this case I do not have the name of the neighborhood but the postal code.\n",
    "3. We obtain the data in a list. According to the form that the list has, we divide it into two dataframes with pandas.\n",
    "4. We drop the last row of the first dataframe so that it does not contain important information and so that the two dataframes have the same number of rows.\n",
    "5. Then we merge the two dataframes and delete some columns that we don't need.\n",
    "6. We then rename the column names to more familiar names.\n",
    "7. Then we iterate over each row of the dataframe and obtain the latitude and longitude and for each row of the table we obtain the postal code, latitude and longitude in a list.\n",
    "8. Finally, through the last list, we obtain the table to begin the analysis."
   ]
  },
  {
   "cell_type": "markdown",
   "metadata": {},
   "source": [
    "This is the method to obtain tha latitude and longitude from postal code:"
   ]
  },
  {
   "cell_type": "code",
   "execution_count": null,
   "metadata": {},
   "outputs": [],
   "source": [
    "import geocoder\n",
    "\n",
    "def get_latlon(postal_code):\n",
    "\n",
    "    lat_lng_coords = None\n",
    "    while(lat_lng_coords is None):\n",
    "        g = geocoder.arcgis('{}, San Francisco, California'.format(postal_code))\n",
    "        lat_lng_coords = g.latlng\n",
    "\n",
    "    return lat_lng_coords"
   ]
  },
  {
   "cell_type": "code",
   "execution_count": null,
   "metadata": {},
   "outputs": [],
   "source": []
  }
 ],
 "metadata": {
  "kernelspec": {
   "display_name": "Python 3.8.0 64-bit ('turicreate': conda)",
   "language": "python",
   "name": "python38064bitturicreateconda9c6fca724ec84ca98fc809217107d0dd"
  },
  "language_info": {
   "codemirror_mode": {
    "name": "ipython",
    "version": 3
   },
   "file_extension": ".py",
   "mimetype": "text/x-python",
   "name": "python",
   "nbconvert_exporter": "python",
   "pygments_lexer": "ipython3",
   "version": "3.8.0"
  }
 },
 "nbformat": 4,
 "nbformat_minor": 2
}
