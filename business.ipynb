{
 "cells": [
  {
   "cell_type": "markdown",
   "metadata": {},
   "source": [
    "# Business in San Francisco"
   ]
  },
  {
   "cell_type": "markdown",
   "metadata": {},
   "source": [
    "## 1.A description of the problem and a discussion of the background"
   ]
  },
  {
   "cell_type": "markdown",
   "metadata": {},
   "source": [
    "The problem I'm going to solve is the idea given in the second part, about where locate a business and what type of business. Here we will analyze each group and see what types of businesses are more favorable.One problem you have when making an investment in something that is profitable is have the knowledge of what I am going to invest in and where to invest. Due to this problem we can use data science to answer these questions and have a better result that when we choose it at random.\n",
    "We are going to use the methodology we use in this course to group places and answer these questions. The region of the world that we are going to use to analyze the Possible locations is the city of San Francisco in the United States. I don't live in Francisco but it seems to me an interesting city."
   ]
  },
  {
   "cell_type": "markdown",
   "metadata": {},
   "source": [
    "## 2.A description of the data and how it will be used to solve the problem. "
   ]
  },
  {
   "cell_type": "markdown",
   "metadata": {},
   "source": [
    "The first thing we have to do when working with places is first to see the possible regions of the city where to establish a business. We need the geographical positions of preferred areas like latitude and longitude. Get latitudes and longitudes no\n",
    "it was easy I had to search a lot on the internet and in the course forum; finally what I'm going\n",
    "to use is what I found in the forum because it seemed more favorable.\n",
    "To obtain the latitude and longitude of each postal code, we will use the geocoder library with ArcGIS.\n",
    "After having the positions we follow the methodology applied in this course to group places and see which sites are more favorable for our business. Let's review the methodology a little that i'm going to use:"
   ]
  },
  {
   "cell_type": "markdown",
   "metadata": {},
   "source": [
    "1. First we get the zip codes of the San Francisco city regions usand Geonames and BeautifulSoup. This is the page URL."
   ]
  },
  {
   "cell_type": "code",
   "execution_count": 2,
   "metadata": {},
   "outputs": [],
   "source": [
    "url = \"http://www.geonames.org/postalcode-search.html?q=San+Francisco%2C+CA&amp%3Bcountry=US\""
   ]
  },
  {
   "cell_type": "markdown",
   "metadata": {},
   "source": [
    "2. First we get the latitude and longitude of each zip code from ArcGIS through the geocoder library. We are going to do it like this:"
   ]
  },
  {
   "cell_type": "code",
   "execution_count": null,
   "metadata": {},
   "outputs": [],
   "source": [
    "import geocoder\n",
    "\n",
    "def get_latlon(postal_code):\n",
    "\n",
    "    lat_lng_coords = None\n",
    "    \n",
    "    while(lat_lng_coords is None):\n",
    "        g = geocoder.arcgis('{}, San Francisco, California'.format(postal_code))\n",
    "        lat_lng_coords = g.latlng\n",
    "\n",
    "    return lat_lng_coords"
   ]
  },
  {
   "cell_type": "markdown",
   "metadata": {},
   "source": [
    "3. After obtaining the positions we explore each area using the Foursquare API. We use what we learned in the course. I will use the postal code because I haven't got the neighborhood name"
   ]
  },
  {
   "cell_type": "code",
   "execution_count": null,
   "metadata": {},
   "outputs": [],
   "source": [
    "san_francisco_venues = getNearbyVenues(names=result['PostalCode'],\n",
    "                                   latitudes=result['Latitude'],\n",
    "                                   longitudes=result['Longitude']\n",
    "                                  )"
   ]
  },
  {
   "cell_type": "markdown",
   "metadata": {},
   "source": [
    "4. We make a count of the categories of each site in each area."
   ]
  },
  {
   "cell_type": "code",
   "execution_count": null,
   "metadata": {},
   "outputs": [],
   "source": [
    "san_francisco_onehot = pd.get_dummies(toronto_venues[['Venue Category']], prefix=\"\", prefix_sep=\"\")"
   ]
  },
  {
   "cell_type": "markdown",
   "metadata": {},
   "source": [
    "5. Through the Pandas library and the course methodology we obtain the 10 most common places.This is same like the course"
   ]
  },
  {
   "cell_type": "markdown",
   "metadata": {},
   "source": [
    "6. Then using KMeans we label each place with 5 types of labels."
   ]
  },
  {
   "cell_type": "markdown",
   "metadata": {},
   "source": [
    "7. Para visualizar cada agrupación lo mostramos en un mapa con folium."
   ]
  },
  {
   "cell_type": "markdown",
   "metadata": {},
   "source": [
    "8. Finally we analyze each group and give a result on the possible businesses in each group."
   ]
  },
  {
   "cell_type": "code",
   "execution_count": null,
   "metadata": {},
   "outputs": [],
   "source": []
  }
 ],
 "metadata": {
  "kernelspec": {
   "display_name": "Python 3.8.0 64-bit ('turicreate': conda)",
   "language": "python",
   "name": "python38064bitturicreateconda9c6fca724ec84ca98fc809217107d0dd"
  },
  "language_info": {
   "codemirror_mode": {
    "name": "ipython",
    "version": 3
   },
   "file_extension": ".py",
   "mimetype": "text/x-python",
   "name": "python",
   "nbconvert_exporter": "python",
   "pygments_lexer": "ipython3",
   "version": "3.8.0"
  }
 },
 "nbformat": 4,
 "nbformat_minor": 2
}
